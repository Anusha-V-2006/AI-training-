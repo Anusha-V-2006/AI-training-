{
 "cells": [
  {
   "cell_type": "code",
   "execution_count": null,
   "id": "2f91ec78",
   "metadata": {},
   "outputs": [],
   "source": [
    "def climb(n):\n",
    "    if n <= 1"
   ]
  }
 ],
 "metadata": {
  "language_info": {
   "name": "python"
  }
 },
 "nbformat": 4,
 "nbformat_minor": 5
}
