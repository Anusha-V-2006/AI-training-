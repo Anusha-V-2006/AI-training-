{
 "cells": [
  {
   "cell_type": "code",
   "execution_count": 4,
   "id": "e9ce8299",
   "metadata": {},
   "outputs": [
    {
     "name": "stdout",
     "output_type": "stream",
     "text": [
      "{'A': ['B', 'c'], 'B': ['A'], 'C': ['A']}\n"
     ]
    }
   ],
   "source": [
    "graph = {\n",
    "    'A': ['B', 'c'],\n",
    "    'B': ['A'],\n",
    "    'C': ['A']\n",
    "}\n",
    "print(graph)"
   ]
  },
  {
   "cell_type": "code",
   "execution_count": 11,
   "id": "065aeca7",
   "metadata": {},
   "outputs": [
    {
     "name": "stdout",
     "output_type": "stream",
     "text": [
      "A ->B ->D\n",
      "A ->C ->D\n"
     ]
    }
   ],
   "source": [
    "def all_paths(graph, start, end, path=[]):\n",
    "    path = path + [start]\n",
    "    if start == end:\n",
    "        print(\" ->\" .join(path))\n",
    "        return\n",
    "    for i in graph[start]:\n",
    "        if i not in path:\n",
    "            all_paths(graph, i, end, path)\n",
    "graph = {\n",
    "    'A': ['B', 'C'],\n",
    "    'B': ['D'],\n",
    "    'C': ['D'],\n",
    "    'D': []\n",
    "}\n",
    "all_paths(graph, 'A', 'D')"
   ]
  },
  {
   "cell_type": "code",
   "execution_count": 4,
   "id": "05af2c5b",
   "metadata": {},
   "outputs": [
    {
     "name": "stdout",
     "output_type": "stream",
     "text": [
      "{'A': ['B', 'B'], 'B': ['A', 'A', 'D'], 'D': ['B']}\n"
     ]
    }
   ],
   "source": [
    "#Add edges\n",
    "def add_edge(graph, u, v):\n",
    "    if u not in graph:\n",
    "        graph[u] = []\n",
    "    if v not in graph:\n",
    "        graph[v] = []\n",
    "    graph[u].append(v)\n",
    "    graph[v].append(u)    \n",
    "graph ={}\n",
    "add_edge(graph, 'A', 'B')\n",
    "add_edge(graph, 'A', 'B')\n",
    "add_edge(graph, 'B', 'D')\n",
    "print(graph)"
   ]
  },
  {
   "cell_type": "code",
   "execution_count": 9,
   "id": "c5300353",
   "metadata": {},
   "outputs": [
    {
     "ename": "TypeError",
     "evalue": "unsupported operand type(s) for +=: 'int' and 'NoneType'",
     "output_type": "error",
     "traceback": [
      "\u001b[31m---------------------------------------------------------------------------\u001b[39m",
      "\u001b[31mTypeError\u001b[39m                                 Traceback (most recent call last)",
      "\u001b[36mCell\u001b[39m\u001b[36m \u001b[39m\u001b[32mIn[9]\u001b[39m\u001b[32m, line 18\u001b[39m\n\u001b[32m     11\u001b[39m \u001b[38;5;66;03m#Test\u001b[39;00m\n\u001b[32m     12\u001b[39m graph = {\n\u001b[32m     13\u001b[39m     \u001b[33m'\u001b[39m\u001b[33mA\u001b[39m\u001b[33m'\u001b[39m: [\u001b[33m'\u001b[39m\u001b[33mB\u001b[39m\u001b[33m'\u001b[39m, \u001b[33m'\u001b[39m\u001b[33mC\u001b[39m\u001b[33m'\u001b[39m],\n\u001b[32m     14\u001b[39m     \u001b[33m'\u001b[39m\u001b[33mB\u001b[39m\u001b[33m'\u001b[39m: [\u001b[33m'\u001b[39m\u001b[33mD\u001b[39m\u001b[33m'\u001b[39m],\n\u001b[32m     15\u001b[39m     \u001b[33m'\u001b[39m\u001b[33mC\u001b[39m\u001b[33m'\u001b[39m: [],\n\u001b[32m     16\u001b[39m     \u001b[33m'\u001b[39m\u001b[33mD\u001b[39m\u001b[33m'\u001b[39m: []\n\u001b[32m     17\u001b[39m }\n\u001b[32m---> \u001b[39m\u001b[32m18\u001b[39m \u001b[38;5;28mprint\u001b[39m(\u001b[43mcount_nodes\u001b[49m\u001b[43m(\u001b[49m\u001b[43mgraph\u001b[49m\u001b[43m,\u001b[49m\u001b[43m \u001b[49m\u001b[33;43m'\u001b[39;49m\u001b[33;43mA\u001b[39;49m\u001b[33;43m'\u001b[39;49m\u001b[43m)\u001b[49m)\n",
      "\u001b[36mCell\u001b[39m\u001b[36m \u001b[39m\u001b[32mIn[9]\u001b[39m\u001b[32m, line 9\u001b[39m, in \u001b[36mcount_nodes\u001b[39m\u001b[34m(graph, start, visited)\u001b[39m\n\u001b[32m      7\u001b[39m \u001b[38;5;28;01mfor\u001b[39;00m i \u001b[38;5;129;01min\u001b[39;00m graph[start]:\n\u001b[32m      8\u001b[39m     \u001b[38;5;28;01mif\u001b[39;00m i \u001b[38;5;129;01mnot\u001b[39;00m \u001b[38;5;129;01min\u001b[39;00m visited:\n\u001b[32m----> \u001b[39m\u001b[32m9\u001b[39m         count  += \u001b[43mcount_nodes\u001b[49m\u001b[43m(\u001b[49m\u001b[43mgraph\u001b[49m\u001b[43m,\u001b[49m\u001b[43m \u001b[49m\u001b[43mi\u001b[49m\u001b[43m,\u001b[49m\u001b[43m  \u001b[49m\u001b[43mvisited\u001b[49m\u001b[43m)\u001b[49m\n\u001b[32m     10\u001b[39m     \u001b[38;5;28;01mreturn\u001b[39;00m count\n",
      "\u001b[36mCell\u001b[39m\u001b[36m \u001b[39m\u001b[32mIn[9]\u001b[39m\u001b[32m, line 9\u001b[39m, in \u001b[36mcount_nodes\u001b[39m\u001b[34m(graph, start, visited)\u001b[39m\n\u001b[32m      7\u001b[39m \u001b[38;5;28;01mfor\u001b[39;00m i \u001b[38;5;129;01min\u001b[39;00m graph[start]:\n\u001b[32m      8\u001b[39m     \u001b[38;5;28;01mif\u001b[39;00m i \u001b[38;5;129;01mnot\u001b[39;00m \u001b[38;5;129;01min\u001b[39;00m visited:\n\u001b[32m----> \u001b[39m\u001b[32m9\u001b[39m         \u001b[43mcount\u001b[49m\u001b[43m  \u001b[49m\u001b[43m+\u001b[49m\u001b[43m=\u001b[49m\u001b[43m \u001b[49m\u001b[43mcount_nodes\u001b[49m\u001b[43m(\u001b[49m\u001b[43mgraph\u001b[49m\u001b[43m,\u001b[49m\u001b[43m \u001b[49m\u001b[43mi\u001b[49m\u001b[43m,\u001b[49m\u001b[43m  \u001b[49m\u001b[43mvisited\u001b[49m\u001b[43m)\u001b[49m\n\u001b[32m     10\u001b[39m     \u001b[38;5;28;01mreturn\u001b[39;00m count\n",
      "\u001b[31mTypeError\u001b[39m: unsupported operand type(s) for +=: 'int' and 'NoneType'"
     ]
    }
   ],
   "source": [
    "#count Nodes in a graph using DFS\n",
    "def count_nodes(graph, start, visited=None):\n",
    "    if visited is None:\n",
    "        visited = set()\n",
    "    visited.add(start)\n",
    "    count = 1\n",
    "    for i in graph[start]:\n",
    "        if i not in visited:\n",
    "            count  += count_nodes(graph, i,  visited)\n",
    "        return count\n",
    "#Test\n",
    "graph = {\n",
    "    'A': ['B', 'C'],\n",
    "    'B': ['D'],\n",
    "    'C': [],\n",
    "    'D': []\n",
    "}\n",
    "print(count_nodes(graph, 'A'))\n",
    "    \n",
    "    "
   ]
  },
  {
   "cell_type": "code",
   "execution_count": null,
   "id": "5d5c4cb9",
   "metadata": {},
   "outputs": [],
   "source": [
    "def has_path(graph, src, dst,visited=None):\n",
    "    if visited is None:\n",
    "        visited = set()\n",
    "    if src == dst:\n",
    "        return True\n",
    "    visited.add(src)\n",
    "    for neighbor not in graph[src]:\n",
    "        if neighbor not in visited:\n",
    "        if has_path(graph, neighbor, dst, visited):\n",
    "            return True\n",
    "    return False\n",
    "#Test\n",
    "graph = {\n",
    "    'A': ['B'],\n",
    "    'B': ['C'],\n",
    "    'C': [],\n",
    "    'D': []\n",
    "}\n",
    "print(has_path(graph, 'A', 'C'))\n",
    "        \n",
    "        "
   ]
  },
  {
   "cell_type": "code",
   "execution_count": 1,
   "id": "8aa18388",
   "metadata": {},
   "outputs": [
    {
     "name": "stdout",
     "output_type": "stream",
     "text": [
      "{'Avatar', 'Joker'}\n"
     ]
    }
   ],
   "source": [
    "def recommend(user, data):\n",
    "    watched = set(data[user])\n",
    "    friends_movies = set(m for u in data if u != user for m in data[u])\n",
    "    return friends_movies - watched\n",
    "\n",
    "# Sample data\n",
    "users = {\n",
    "    'Anusha': ['Inception', 'Titanic'],\n",
    "    'Mokesh': ['Inception', 'Avatar'],\n",
    "    'priya': ['Titanic', 'Avatar', 'Joker']\n",
    "}\n",
    "print(recommend('Anusha', users))\n"
   ]
  }
 ],
 "metadata": {
  "kernelspec": {
   "display_name": "Python 3",
   "language": "python",
   "name": "python3"
  },
  "language_info": {
   "codemirror_mode": {
    "name": "ipython",
    "version": 3
   },
   "file_extension": ".py",
   "mimetype": "text/x-python",
   "name": "python",
   "nbconvert_exporter": "python",
   "pygments_lexer": "ipython3",
   "version": "3.13.5"
  }
 },
 "nbformat": 4,
 "nbformat_minor": 5
}
